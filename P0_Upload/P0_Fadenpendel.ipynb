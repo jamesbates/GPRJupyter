{
 "cells": [
  {
   "cell_type": "code",
   "execution_count": 1,
   "id": "e97c8243-facf-49d3-bdb1-dd71b7be7bfd",
   "metadata": {
    "tags": []
   },
   "outputs": [
    {
     "name": "stderr",
     "output_type": "stream",
     "text": [
      "/opt/conda/lib/python3.11/site-packages/MDAnalysis/topology/TPRParser.py:161: DeprecationWarning: 'xdrlib' is deprecated and slated for removal in Python 3.13\n",
      "  import xdrlib\n",
      "Schema is deprecated, use plugins. ()\n"
     ]
    },
    {
     "name": "stdout",
     "output_type": "stream",
     "text": [
      "Fetching remote uploads...\n",
      "1 entries are qualified and added to the download list.\n",
      "Downloading 1 entries...\n"
     ]
    }
   ],
   "source": [
    "import numpy as np\n",
    "import pandas as pd\n",
    "import matplotlib.pyplot as plt\n",
    "\n",
    "entry_id = \"aovTVkOn6YlLHtn3C9ylOGkFHvHA\"\n",
    "\n",
    "import gpr.analysis as gpa\n",
    "\n",
    "singlePeriod = gpa.getData('singlePeriod')\n",
    "tenPeriods = gpa.getData('tenPeriods')\n",
    "periodVsAmplitude = gpa.getData('periodVsAmplitude')\n",
    "periodVsLength = gpa.getData('periodVsLength')"
   ]
  },
  {
   "cell_type": "markdown",
   "id": "3064b9f5-0bde-46c2-abe8-19150b1cbd2a",
   "metadata": {},
   "source": [
    "# Introduction\n",
    "Pendulums are important because...\n",
    "\n",
    "# Theory\n",
    "In the small-angle approximation, the period of a pendulum is given by\n",
    "\\begin{equation}\\label{period}\n",
    "T=2\\pi\\sqrt{\\frac{L}{g}}\n",
    "\\end{equation}"
   ]
  },
  {
   "cell_type": "markdown",
   "id": "bd3ab9ce-968e-4091-8c58-041cdd5a43fe",
   "metadata": {},
   "source": [
    "# Experimental setup"
   ]
  },
  {
   "cell_type": "markdown",
   "id": "be0ca1e1-fc8f-47bd-a784-2e456a1d87e1",
   "metadata": {
    "tags": []
   },
   "source": [
    "# Results\n",
    "\n",
    "## Single-period measurement \n",
    "In this first experiment, a constant amplitude of ... was used. The period was measured 10 times as the duration between zero-point passages, and 10 times as the duration between reversal point passages. The resulst are shown in the table below"
   ]
  },
  {
   "cell_type": "code",
   "execution_count": 2,
   "id": "2de366b4-c72b-40c6-8c09-e7278906f5dd",
   "metadata": {
    "tags": []
   },
   "outputs": [
    {
     "data": {
      "text/html": [
       "<style type=\"text/css\">\n",
       "</style>\n",
       "<table id=\"T_36433\">\n",
       "  <caption><em>Tabelle: Single-period measurements</em></caption>\n",
       "  <thead>\n",
       "    <tr>\n",
       "      <th id=\"T_36433_level0_col0\" class=\"col_heading level0 col0\" >Amplitude [$\\degree$]</th>\n",
       "      <th id=\"T_36433_level0_col1\" class=\"col_heading level0 col1\" >Length [m]</th>\n",
       "      <th id=\"T_36433_level0_col2\" class=\"col_heading level0 col2\" >Period at zero-point [s]</th>\n",
       "      <th id=\"T_36433_level0_col3\" class=\"col_heading level0 col3\" >Period at reversal point [s]</th>\n",
       "    </tr>\n",
       "  </thead>\n",
       "  <tbody>\n",
       "    <tr>\n",
       "      <td id=\"T_36433_row0_col0\" class=\"data row0 col0\" >5.0</td>\n",
       "      <td id=\"T_36433_row0_col1\" class=\"data row0 col1\" >2.727</td>\n",
       "      <td id=\"T_36433_row0_col2\" class=\"data row0 col2\" >3.35</td>\n",
       "      <td id=\"T_36433_row0_col3\" class=\"data row0 col3\" >3.40</td>\n",
       "    </tr>\n",
       "    <tr>\n",
       "      <td id=\"T_36433_row1_col0\" class=\"data row1 col0\" >5.0</td>\n",
       "      <td id=\"T_36433_row1_col1\" class=\"data row1 col1\" >2.727</td>\n",
       "      <td id=\"T_36433_row1_col2\" class=\"data row1 col2\" >3.34</td>\n",
       "      <td id=\"T_36433_row1_col3\" class=\"data row1 col3\" >3.28</td>\n",
       "    </tr>\n",
       "    <tr>\n",
       "      <td id=\"T_36433_row2_col0\" class=\"data row2 col0\" >5.0</td>\n",
       "      <td id=\"T_36433_row2_col1\" class=\"data row2 col1\" >2.727</td>\n",
       "      <td id=\"T_36433_row2_col2\" class=\"data row2 col2\" >3.30</td>\n",
       "      <td id=\"T_36433_row2_col3\" class=\"data row2 col3\" >3.41</td>\n",
       "    </tr>\n",
       "    <tr>\n",
       "      <td id=\"T_36433_row3_col0\" class=\"data row3 col0\" >5.0</td>\n",
       "      <td id=\"T_36433_row3_col1\" class=\"data row3 col1\" >2.727</td>\n",
       "      <td id=\"T_36433_row3_col2\" class=\"data row3 col2\" >3.32</td>\n",
       "      <td id=\"T_36433_row3_col3\" class=\"data row3 col3\" >3.29</td>\n",
       "    </tr>\n",
       "    <tr>\n",
       "      <td id=\"T_36433_row4_col0\" class=\"data row4 col0\" >5.0</td>\n",
       "      <td id=\"T_36433_row4_col1\" class=\"data row4 col1\" >2.727</td>\n",
       "      <td id=\"T_36433_row4_col2\" class=\"data row4 col2\" >3.29</td>\n",
       "      <td id=\"T_36433_row4_col3\" class=\"data row4 col3\" >3.26</td>\n",
       "    </tr>\n",
       "    <tr>\n",
       "      <td id=\"T_36433_row5_col0\" class=\"data row5 col0\" >5.0</td>\n",
       "      <td id=\"T_36433_row5_col1\" class=\"data row5 col1\" >2.727</td>\n",
       "      <td id=\"T_36433_row5_col2\" class=\"data row5 col2\" >3.37</td>\n",
       "      <td id=\"T_36433_row5_col3\" class=\"data row5 col3\" >3.36</td>\n",
       "    </tr>\n",
       "    <tr>\n",
       "      <td id=\"T_36433_row6_col0\" class=\"data row6 col0\" >5.0</td>\n",
       "      <td id=\"T_36433_row6_col1\" class=\"data row6 col1\" >2.727</td>\n",
       "      <td id=\"T_36433_row6_col2\" class=\"data row6 col2\" >3.30</td>\n",
       "      <td id=\"T_36433_row6_col3\" class=\"data row6 col3\" >3.22</td>\n",
       "    </tr>\n",
       "    <tr>\n",
       "      <td id=\"T_36433_row7_col0\" class=\"data row7 col0\" >5.0</td>\n",
       "      <td id=\"T_36433_row7_col1\" class=\"data row7 col1\" >2.727</td>\n",
       "      <td id=\"T_36433_row7_col2\" class=\"data row7 col2\" >3.36</td>\n",
       "      <td id=\"T_36433_row7_col3\" class=\"data row7 col3\" >3.49</td>\n",
       "    </tr>\n",
       "    <tr>\n",
       "      <td id=\"T_36433_row8_col0\" class=\"data row8 col0\" >5.0</td>\n",
       "      <td id=\"T_36433_row8_col1\" class=\"data row8 col1\" >2.727</td>\n",
       "      <td id=\"T_36433_row8_col2\" class=\"data row8 col2\" >3.30</td>\n",
       "      <td id=\"T_36433_row8_col3\" class=\"data row8 col3\" >3.24</td>\n",
       "    </tr>\n",
       "    <tr>\n",
       "      <td id=\"T_36433_row9_col0\" class=\"data row9 col0\" >5.0</td>\n",
       "      <td id=\"T_36433_row9_col1\" class=\"data row9 col1\" >2.727</td>\n",
       "      <td id=\"T_36433_row9_col2\" class=\"data row9 col2\" >3.32</td>\n",
       "      <td id=\"T_36433_row9_col3\" class=\"data row9 col3\" >3.20</td>\n",
       "    </tr>\n",
       "  </tbody>\n",
       "</table>\n"
      ],
      "text/latex": [
       "\\begin{table}[H]\n",
       "\\centering\n",
       "\\caption{Single-period measurements}\n",
       "\\begin{tabular}{rrrr}\n",
       "\\toprule\n",
       "Amplitude [$\\degree$] & Length [m] & Period at zero-point [s] & Period at reversal point [s] \\\\\n",
       "\\midrule\n",
       "5.0 & 2.727 & 3.35 & 3.40 \\\\\n",
       "5.0 & 2.727 & 3.34 & 3.28 \\\\\n",
       "5.0 & 2.727 & 3.30 & 3.41 \\\\\n",
       "5.0 & 2.727 & 3.32 & 3.29 \\\\\n",
       "5.0 & 2.727 & 3.29 & 3.26 \\\\\n",
       "5.0 & 2.727 & 3.37 & 3.36 \\\\\n",
       "5.0 & 2.727 & 3.30 & 3.22 \\\\\n",
       "5.0 & 2.727 & 3.36 & 3.49 \\\\\n",
       "5.0 & 2.727 & 3.30 & 3.24 \\\\\n",
       "5.0 & 2.727 & 3.32 & 3.20 \\\\\n",
       "\\bottomrule\n",
       "\\end{tabular}\n",
       "\\end{table}\n"
      ],
      "text/plain": [
       "<gpr.analysis.display_wrapper at 0x7fd2aee95690>"
      ]
     },
     "metadata": {},
     "output_type": "display_data"
    }
   ],
   "source": [
    "gpa.table(singlePeriod.drop('notes',axis=1)\n",
    "          .style.set_caption(\"Single-period measurements\")\n",
    "                .format(subset='amplitude',precision=1)\n",
    "                .format(subset='length',precision=3)\n",
    "                .relabel_index(['Amplitude [$\\\\degree$]', 'Length [m]','Period at zero-point [s]','Period at reversal point [s]'],axis=1)\n",
    "       )"
   ]
  },
  {
   "cell_type": "markdown",
   "id": "d638dfd9-7ba4-4af2-833a-e496ca7f28d6",
   "metadata": {
    "tags": []
   },
   "source": [
    "Next, the duration was measured 10 times, as the duration of 10 zero-point passages, and ten times as the duration of 10 reversal-point passages. The results are shown in the table below."
   ]
  },
  {
   "cell_type": "code",
   "execution_count": 3,
   "id": "31e54176-f879-49cf-b373-b25d632d4a4d",
   "metadata": {
    "tags": []
   },
   "outputs": [
    {
     "data": {
      "text/html": [
       "<style type=\"text/css\">\n",
       "</style>\n",
       "<table id=\"T_efb76\">\n",
       "  <caption><em>Tabelle: 10-period measurements</em></caption>\n",
       "  <thead>\n",
       "    <tr>\n",
       "      <th id=\"T_efb76_level0_col0\" class=\"col_heading level0 col0\" >amplitude</th>\n",
       "      <th id=\"T_efb76_level0_col1\" class=\"col_heading level0 col1\" >length</th>\n",
       "      <th id=\"T_efb76_level0_col2\" class=\"col_heading level0 col2\" >zeroPoint</th>\n",
       "      <th id=\"T_efb76_level0_col3\" class=\"col_heading level0 col3\" >reversePoint</th>\n",
       "      <th id=\"T_efb76_level0_col4\" class=\"col_heading level0 col4\" >zeroPointSingle</th>\n",
       "      <th id=\"T_efb76_level0_col5\" class=\"col_heading level0 col5\" >reversePointSingle</th>\n",
       "    </tr>\n",
       "  </thead>\n",
       "  <tbody>\n",
       "    <tr>\n",
       "      <td id=\"T_efb76_row0_col0\" class=\"data row0 col0\" >5.00</td>\n",
       "      <td id=\"T_efb76_row0_col1\" class=\"data row0 col1\" >2.73</td>\n",
       "      <td id=\"T_efb76_row0_col2\" class=\"data row0 col2\" >33.27</td>\n",
       "      <td id=\"T_efb76_row0_col3\" class=\"data row0 col3\" >33.30</td>\n",
       "      <td id=\"T_efb76_row0_col4\" class=\"data row0 col4\" >3.26</td>\n",
       "      <td id=\"T_efb76_row0_col5\" class=\"data row0 col5\" >3.26</td>\n",
       "    </tr>\n",
       "    <tr>\n",
       "      <td id=\"T_efb76_row1_col0\" class=\"data row1 col0\" >5.00</td>\n",
       "      <td id=\"T_efb76_row1_col1\" class=\"data row1 col1\" >2.73</td>\n",
       "      <td id=\"T_efb76_row1_col2\" class=\"data row1 col2\" >33.33</td>\n",
       "      <td id=\"T_efb76_row1_col3\" class=\"data row1 col3\" >33.25</td>\n",
       "      <td id=\"T_efb76_row1_col4\" class=\"data row1 col4\" >3.27</td>\n",
       "      <td id=\"T_efb76_row1_col5\" class=\"data row1 col5\" >3.26</td>\n",
       "    </tr>\n",
       "    <tr>\n",
       "      <td id=\"T_efb76_row2_col0\" class=\"data row2 col0\" >5.00</td>\n",
       "      <td id=\"T_efb76_row2_col1\" class=\"data row2 col1\" >2.73</td>\n",
       "      <td id=\"T_efb76_row2_col2\" class=\"data row2 col2\" >33.30</td>\n",
       "      <td id=\"T_efb76_row2_col3\" class=\"data row2 col3\" >33.31</td>\n",
       "      <td id=\"T_efb76_row2_col4\" class=\"data row2 col4\" >3.26</td>\n",
       "      <td id=\"T_efb76_row2_col5\" class=\"data row2 col5\" >3.27</td>\n",
       "    </tr>\n",
       "    <tr>\n",
       "      <td id=\"T_efb76_row3_col0\" class=\"data row3 col0\" >5.00</td>\n",
       "      <td id=\"T_efb76_row3_col1\" class=\"data row3 col1\" >2.73</td>\n",
       "      <td id=\"T_efb76_row3_col2\" class=\"data row3 col2\" >33.25</td>\n",
       "      <td id=\"T_efb76_row3_col3\" class=\"data row3 col3\" >33.27</td>\n",
       "      <td id=\"T_efb76_row3_col4\" class=\"data row3 col4\" >3.26</td>\n",
       "      <td id=\"T_efb76_row3_col5\" class=\"data row3 col5\" >3.26</td>\n",
       "    </tr>\n",
       "    <tr>\n",
       "      <td id=\"T_efb76_row4_col0\" class=\"data row4 col0\" >5.00</td>\n",
       "      <td id=\"T_efb76_row4_col1\" class=\"data row4 col1\" >2.73</td>\n",
       "      <td id=\"T_efb76_row4_col2\" class=\"data row4 col2\" >33.35</td>\n",
       "      <td id=\"T_efb76_row4_col3\" class=\"data row4 col3\" >33.36</td>\n",
       "      <td id=\"T_efb76_row4_col4\" class=\"data row4 col4\" >3.27</td>\n",
       "      <td id=\"T_efb76_row4_col5\" class=\"data row4 col5\" >3.27</td>\n",
       "    </tr>\n",
       "    <tr>\n",
       "      <td id=\"T_efb76_row5_col0\" class=\"data row5 col0\" >5.00</td>\n",
       "      <td id=\"T_efb76_row5_col1\" class=\"data row5 col1\" >2.73</td>\n",
       "      <td id=\"T_efb76_row5_col2\" class=\"data row5 col2\" >33.30</td>\n",
       "      <td id=\"T_efb76_row5_col3\" class=\"data row5 col3\" >33.29</td>\n",
       "      <td id=\"T_efb76_row5_col4\" class=\"data row5 col4\" >3.26</td>\n",
       "      <td id=\"T_efb76_row5_col5\" class=\"data row5 col5\" >3.26</td>\n",
       "    </tr>\n",
       "    <tr>\n",
       "      <td id=\"T_efb76_row6_col0\" class=\"data row6 col0\" >5.00</td>\n",
       "      <td id=\"T_efb76_row6_col1\" class=\"data row6 col1\" >2.73</td>\n",
       "      <td id=\"T_efb76_row6_col2\" class=\"data row6 col2\" >33.29</td>\n",
       "      <td id=\"T_efb76_row6_col3\" class=\"data row6 col3\" >33.26</td>\n",
       "      <td id=\"T_efb76_row6_col4\" class=\"data row6 col4\" >3.26</td>\n",
       "      <td id=\"T_efb76_row6_col5\" class=\"data row6 col5\" >3.26</td>\n",
       "    </tr>\n",
       "    <tr>\n",
       "      <td id=\"T_efb76_row7_col0\" class=\"data row7 col0\" >5.00</td>\n",
       "      <td id=\"T_efb76_row7_col1\" class=\"data row7 col1\" >2.73</td>\n",
       "      <td id=\"T_efb76_row7_col2\" class=\"data row7 col2\" >33.34</td>\n",
       "      <td id=\"T_efb76_row7_col3\" class=\"data row7 col3\" >33.33</td>\n",
       "      <td id=\"T_efb76_row7_col4\" class=\"data row7 col4\" >3.27</td>\n",
       "      <td id=\"T_efb76_row7_col5\" class=\"data row7 col5\" >3.27</td>\n",
       "    </tr>\n",
       "    <tr>\n",
       "      <td id=\"T_efb76_row8_col0\" class=\"data row8 col0\" >5.00</td>\n",
       "      <td id=\"T_efb76_row8_col1\" class=\"data row8 col1\" >2.73</td>\n",
       "      <td id=\"T_efb76_row8_col2\" class=\"data row8 col2\" >33.25</td>\n",
       "      <td id=\"T_efb76_row8_col3\" class=\"data row8 col3\" >33.36</td>\n",
       "      <td id=\"T_efb76_row8_col4\" class=\"data row8 col4\" >3.26</td>\n",
       "      <td id=\"T_efb76_row8_col5\" class=\"data row8 col5\" >3.27</td>\n",
       "    </tr>\n",
       "    <tr>\n",
       "      <td id=\"T_efb76_row9_col0\" class=\"data row9 col0\" >5.00</td>\n",
       "      <td id=\"T_efb76_row9_col1\" class=\"data row9 col1\" >2.73</td>\n",
       "      <td id=\"T_efb76_row9_col2\" class=\"data row9 col2\" >33.28</td>\n",
       "      <td id=\"T_efb76_row9_col3\" class=\"data row9 col3\" >33.20</td>\n",
       "      <td id=\"T_efb76_row9_col4\" class=\"data row9 col4\" >3.26</td>\n",
       "      <td id=\"T_efb76_row9_col5\" class=\"data row9 col5\" >3.25</td>\n",
       "    </tr>\n",
       "  </tbody>\n",
       "</table>\n"
      ],
      "text/latex": [
       "\\begin{table}[H]\n",
       "\\centering\n",
       "\\caption{10-period measurements}\n",
       "\\begin{tabular}{rrrrrr}\n",
       "\\toprule\n",
       "amplitude & length & zeroPoint & reversePoint & zeroPointSingle & reversePointSingle \\\\\n",
       "\\midrule\n",
       "5.00 & 2.73 & 33.27 & 33.30 & 3.26 & 3.26 \\\\\n",
       "5.00 & 2.73 & 33.33 & 33.25 & 3.27 & 3.26 \\\\\n",
       "5.00 & 2.73 & 33.30 & 33.31 & 3.26 & 3.27 \\\\\n",
       "5.00 & 2.73 & 33.25 & 33.27 & 3.26 & 3.26 \\\\\n",
       "5.00 & 2.73 & 33.35 & 33.36 & 3.27 & 3.27 \\\\\n",
       "5.00 & 2.73 & 33.30 & 33.29 & 3.26 & 3.26 \\\\\n",
       "5.00 & 2.73 & 33.29 & 33.26 & 3.26 & 3.26 \\\\\n",
       "5.00 & 2.73 & 33.34 & 33.33 & 3.27 & 3.27 \\\\\n",
       "5.00 & 2.73 & 33.25 & 33.36 & 3.26 & 3.27 \\\\\n",
       "5.00 & 2.73 & 33.28 & 33.20 & 3.26 & 3.25 \\\\\n",
       "\\bottomrule\n",
       "\\end{tabular}\n",
       "\\end{table}\n"
      ],
      "text/plain": [
       "<gpr.analysis.display_wrapper at 0x7f55fc068890>"
      ]
     },
     "metadata": {},
     "output_type": "display_data"
    }
   ],
   "source": [
    "# \n",
    "tenPeriods['zeroPointSingle']=tenPeriods['zeroPoint']/10.2\n",
    "tenPeriods['reversePointSingle']=tenPeriods['reversePoint']/10.2\n",
    "gpa.table(tenPeriods.drop(\"notes\",axis=1).style.set_caption(\"10-period measurements\"))"
   ]
  },
  {
   "cell_type": "markdown",
   "id": "6521c37a-5e35-49d6-8245-95e60027a54a",
   "metadata": {},
   "source": [
    "The plot below shows the distribution of the period measurements for each of the 4 methods employed."
   ]
  },
  {
   "cell_type": "code",
   "execution_count": 4,
   "id": "df19539f-3501-49aa-824a-858116b8b88e",
   "metadata": {
    "tags": []
   },
   "outputs": [
    {
     "data": {
      "image/png": "[encoded data removed]",
      "text/plain": [
       "<Figure size 640x480 with 1 Axes>"
      ]
     },
     "metadata": {},
     "output_type": "display_data"
    },
    {
     "data": {
      "text/html": [
       "<em>Abbildung: Period measurement with length = 2.727m and amplitude=5.0$\\degree$</em>"
      ],
      "text/latex": [
       "\\captionof{figure}{Period measurement with length = 2.727m and amplitude=5.0$\\degree$}\\vspace{12pt}"
      ],
      "text/plain": [
       "<gpr.analysis.display_wrapper at 0x7f55fd95aed0>"
      ]
     },
     "metadata": {},
     "output_type": "display_data"
    }
   ],
   "source": [
    "plt.plot(singlePeriod.index+1, singlePeriod['zeroPoint'],marker='+',linestyle='none',label='Single period at zero point', color='b')\n",
    "plt.plot(singlePeriod.index+1, singlePeriod['reversePoint'],marker='*',linestyle='none',label='Single period at reverse point', color='b')\n",
    "plt.plot(tenPeriods.index+1, tenPeriods['zeroPointSingle'],marker='+',linestyle='none',label='10 Period avg at zero point',color='r')\n",
    "plt.plot(tenPeriods.index+1, tenPeriods['reversePointSingle'], marker='*',linestyle='none',label='10 Period avg at reverse point', color='r')\n",
    "plt.xlabel('Measurement')\n",
    "plt.ylabel('Period [s]')\n",
    "plt.legend()\n",
    "plt.title(f\"Period measurement with length = {singlePeriod['length'][0]}m and amplitude={singlePeriod['amplitude'][0]}$\\\\degree$\")\n",
    "#plt.show()\n",
    "gpa.figure()"
   ]
  },
  {
   "cell_type": "markdown",
   "id": "26553aeb-bb79-4f3c-a7a9-303501970d5f",
   "metadata": {},
   "source": [
    "Clearly, the best accuracy is obtained by ..."
   ]
  },
  {
   "cell_type": "markdown",
   "id": "537ee3ac-59c0-4e8c-bde2-8f0f6ffc3ddc",
   "metadata": {},
   "source": [
    "## Amplitude-dependence of the pendulum period"
   ]
  },
  {
   "cell_type": "markdown",
   "id": "8fbb262c-55de-4282-bb5a-b1244d2e781e",
   "metadata": {
    "tags": []
   },
   "source": [
    "Measurement results:"
   ]
  },
  {
   "cell_type": "code",
   "execution_count": 5,
   "id": "7c6af6f0-0f3a-448b-8d29-89095f704d5f",
   "metadata": {
    "tags": []
   },
   "outputs": [
    {
     "data": {
      "text/html": [
       "<style type=\"text/css\">\n",
       "</style>\n",
       "<table id=\"T_173dd\">\n",
       "  <caption><em>Tabelle: The results of the amplitude-dependent period measurements</em></caption>\n",
       "  <thead>\n",
       "    <tr>\n",
       "      <th id=\"T_173dd_level0_col0\" class=\"col_heading level0 col0\" >length</th>\n",
       "      <th id=\"T_173dd_level0_col1\" class=\"col_heading level0 col1\" >amplitude</th>\n",
       "      <th id=\"T_173dd_level0_col2\" class=\"col_heading level0 col2\" >period</th>\n",
       "    </tr>\n",
       "  </thead>\n",
       "  <tbody>\n",
       "    <tr>\n",
       "      <td id=\"T_173dd_row0_col0\" class=\"data row0 col0\" >2.73</td>\n",
       "      <td id=\"T_173dd_row0_col1\" class=\"data row0 col1\" >5.00</td>\n",
       "      <td id=\"T_173dd_row0_col2\" class=\"data row0 col2\" >33.30</td>\n",
       "    </tr>\n",
       "    <tr>\n",
       "      <td id=\"T_173dd_row1_col0\" class=\"data row1 col0\" >2.73</td>\n",
       "      <td id=\"T_173dd_row1_col1\" class=\"data row1 col1\" >5.00</td>\n",
       "      <td id=\"T_173dd_row1_col2\" class=\"data row1 col2\" >33.30</td>\n",
       "    </tr>\n",
       "    <tr>\n",
       "      <td id=\"T_173dd_row2_col0\" class=\"data row2 col0\" >2.73</td>\n",
       "      <td id=\"T_173dd_row2_col1\" class=\"data row2 col1\" >10.00</td>\n",
       "      <td id=\"T_173dd_row2_col2\" class=\"data row2 col2\" >33.37</td>\n",
       "    </tr>\n",
       "    <tr>\n",
       "      <td id=\"T_173dd_row3_col0\" class=\"data row3 col0\" >2.73</td>\n",
       "      <td id=\"T_173dd_row3_col1\" class=\"data row3 col1\" >10.00</td>\n",
       "      <td id=\"T_173dd_row3_col2\" class=\"data row3 col2\" >33.32</td>\n",
       "    </tr>\n",
       "    <tr>\n",
       "      <td id=\"T_173dd_row4_col0\" class=\"data row4 col0\" >2.73</td>\n",
       "      <td id=\"T_173dd_row4_col1\" class=\"data row4 col1\" >15.00</td>\n",
       "      <td id=\"T_173dd_row4_col2\" class=\"data row4 col2\" >33.39</td>\n",
       "    </tr>\n",
       "    <tr>\n",
       "      <td id=\"T_173dd_row5_col0\" class=\"data row5 col0\" >2.73</td>\n",
       "      <td id=\"T_173dd_row5_col1\" class=\"data row5 col1\" >15.00</td>\n",
       "      <td id=\"T_173dd_row5_col2\" class=\"data row5 col2\" >33.43</td>\n",
       "    </tr>\n",
       "    <tr>\n",
       "      <td id=\"T_173dd_row6_col0\" class=\"data row6 col0\" >2.73</td>\n",
       "      <td id=\"T_173dd_row6_col1\" class=\"data row6 col1\" >20.00</td>\n",
       "      <td id=\"T_173dd_row6_col2\" class=\"data row6 col2\" >33.54</td>\n",
       "    </tr>\n",
       "    <tr>\n",
       "      <td id=\"T_173dd_row7_col0\" class=\"data row7 col0\" >2.73</td>\n",
       "      <td id=\"T_173dd_row7_col1\" class=\"data row7 col1\" >20.00</td>\n",
       "      <td id=\"T_173dd_row7_col2\" class=\"data row7 col2\" >33.57</td>\n",
       "    </tr>\n",
       "    <tr>\n",
       "      <td id=\"T_173dd_row8_col0\" class=\"data row8 col0\" >2.73</td>\n",
       "      <td id=\"T_173dd_row8_col1\" class=\"data row8 col1\" >30.00</td>\n",
       "      <td id=\"T_173dd_row8_col2\" class=\"data row8 col2\" >33.82</td>\n",
       "    </tr>\n",
       "    <tr>\n",
       "      <td id=\"T_173dd_row9_col0\" class=\"data row9 col0\" >2.73</td>\n",
       "      <td id=\"T_173dd_row9_col1\" class=\"data row9 col1\" >30.00</td>\n",
       "      <td id=\"T_173dd_row9_col2\" class=\"data row9 col2\" >33.90</td>\n",
       "    </tr>\n",
       "    <tr>\n",
       "      <td id=\"T_173dd_row10_col0\" class=\"data row10 col0\" >2.73</td>\n",
       "      <td id=\"T_173dd_row10_col1\" class=\"data row10 col1\" >45.00</td>\n",
       "      <td id=\"T_173dd_row10_col2\" class=\"data row10 col2\" >34.66</td>\n",
       "    </tr>\n",
       "    <tr>\n",
       "      <td id=\"T_173dd_row11_col0\" class=\"data row11 col0\" >2.73</td>\n",
       "      <td id=\"T_173dd_row11_col1\" class=\"data row11 col1\" >45.00</td>\n",
       "      <td id=\"T_173dd_row11_col2\" class=\"data row11 col2\" >34.60</td>\n",
       "    </tr>\n",
       "  </tbody>\n",
       "</table>\n"
      ],
      "text/latex": [
       "\\begin{table}[H]\n",
       "\\centering\n",
       "\\caption{The results of the amplitude-dependent period measurements}\n",
       "\\begin{tabular}{rrr}\n",
       "\\toprule\n",
       "length & amplitude & period \\\\\n",
       "\\midrule\n",
       "2.73 & 5.00 & 33.30 \\\\\n",
       "2.73 & 5.00 & 33.30 \\\\\n",
       "2.73 & 10.00 & 33.37 \\\\\n",
       "2.73 & 10.00 & 33.32 \\\\\n",
       "2.73 & 15.00 & 33.39 \\\\\n",
       "2.73 & 15.00 & 33.43 \\\\\n",
       "2.73 & 20.00 & 33.54 \\\\\n",
       "2.73 & 20.00 & 33.57 \\\\\n",
       "2.73 & 30.00 & 33.82 \\\\\n",
       "2.73 & 30.00 & 33.90 \\\\\n",
       "2.73 & 45.00 & 34.66 \\\\\n",
       "2.73 & 45.00 & 34.60 \\\\\n",
       "\\bottomrule\n",
       "\\end{tabular}\n",
       "\\end{table}\n"
      ],
      "text/plain": [
       "<gpr.analysis.display_wrapper at 0x7f55fd2febd0>"
      ]
     },
     "metadata": {},
     "output_type": "display_data"
    },
    {
     "data": {
      "text/html": [
       "<style type=\"text/css\">\n",
       "</style>\n",
       "<table id=\"T_63901\">\n",
       "  <caption><em>Tabelle: Average period for each amplitude</em></caption>\n",
       "  <thead>\n",
       "    <tr>\n",
       "      <th id=\"T_63901_level0_col0\" class=\"col_heading level0 col0\" >amplitude</th>\n",
       "      <th id=\"T_63901_level0_col1\" class=\"col_heading level0 col1\" >length</th>\n",
       "      <th id=\"T_63901_level0_col2\" class=\"col_heading level0 col2\" >period</th>\n",
       "    </tr>\n",
       "  </thead>\n",
       "  <tbody>\n",
       "    <tr>\n",
       "      <td id=\"T_63901_row0_col0\" class=\"data row0 col0\" >5.00</td>\n",
       "      <td id=\"T_63901_row0_col1\" class=\"data row0 col1\" >2.73</td>\n",
       "      <td id=\"T_63901_row0_col2\" class=\"data row0 col2\" >33.30</td>\n",
       "    </tr>\n",
       "    <tr>\n",
       "      <td id=\"T_63901_row1_col0\" class=\"data row1 col0\" >10.00</td>\n",
       "      <td id=\"T_63901_row1_col1\" class=\"data row1 col1\" >2.73</td>\n",
       "      <td id=\"T_63901_row1_col2\" class=\"data row1 col2\" >33.34</td>\n",
       "    </tr>\n",
       "    <tr>\n",
       "      <td id=\"T_63901_row2_col0\" class=\"data row2 col0\" >15.00</td>\n",
       "      <td id=\"T_63901_row2_col1\" class=\"data row2 col1\" >2.73</td>\n",
       "      <td id=\"T_63901_row2_col2\" class=\"data row2 col2\" >33.41</td>\n",
       "    </tr>\n",
       "    <tr>\n",
       "      <td id=\"T_63901_row3_col0\" class=\"data row3 col0\" >20.00</td>\n",
       "      <td id=\"T_63901_row3_col1\" class=\"data row3 col1\" >2.73</td>\n",
       "      <td id=\"T_63901_row3_col2\" class=\"data row3 col2\" >33.55</td>\n",
       "    </tr>\n",
       "    <tr>\n",
       "      <td id=\"T_63901_row4_col0\" class=\"data row4 col0\" >30.00</td>\n",
       "      <td id=\"T_63901_row4_col1\" class=\"data row4 col1\" >2.73</td>\n",
       "      <td id=\"T_63901_row4_col2\" class=\"data row4 col2\" >33.86</td>\n",
       "    </tr>\n",
       "    <tr>\n",
       "      <td id=\"T_63901_row5_col0\" class=\"data row5 col0\" >45.00</td>\n",
       "      <td id=\"T_63901_row5_col1\" class=\"data row5 col1\" >2.73</td>\n",
       "      <td id=\"T_63901_row5_col2\" class=\"data row5 col2\" >34.63</td>\n",
       "    </tr>\n",
       "  </tbody>\n",
       "</table>\n"
      ],
      "text/latex": [
       "\\begin{table}[H]\n",
       "\\centering\n",
       "\\caption{Average period for each amplitude}\n",
       "\\begin{tabular}{rrr}\n",
       "\\toprule\n",
       "amplitude & length & period \\\\\n",
       "\\midrule\n",
       "5.00 & 2.73 & 33.30 \\\\\n",
       "10.00 & 2.73 & 33.34 \\\\\n",
       "15.00 & 2.73 & 33.41 \\\\\n",
       "20.00 & 2.73 & 33.55 \\\\\n",
       "30.00 & 2.73 & 33.86 \\\\\n",
       "45.00 & 2.73 & 34.63 \\\\\n",
       "\\bottomrule\n",
       "\\end{tabular}\n",
       "\\end{table}\n"
      ],
      "text/plain": [
       "<gpr.analysis.display_wrapper at 0x7f55fd30b8d0>"
      ]
     },
     "metadata": {},
     "output_type": "display_data"
    }
   ],
   "source": [
    "avgPeriodVsAmplitude = periodVsAmplitude.groupby('amplitude',group_keys=True).agg('mean',numeric_only=True).reset_index()\n",
    "\n",
    "gpa.table(periodVsAmplitude.drop(\"notes\",axis=1).style.set_caption(\"The results of the amplitude-dependent period measurements\"))\n",
    "gpa.table(avgPeriodVsAmplitude.style.set_caption(\"Average period for each amplitude\"))"
   ]
  },
  {
   "cell_type": "code",
   "execution_count": 6,
   "id": "cfe99d82-64fc-49b2-afaa-336ad31f3005",
   "metadata": {
    "tags": []
   },
   "outputs": [
    {
     "data": {
      "image/png": "[encoded data removed]",
      "text/plain": [
       "<Figure size 640x480 with 1 Axes>"
      ]
     },
     "metadata": {},
     "output_type": "display_data"
    },
    {
     "data": {
      "text/html": [
       "<em>Abbildung: Period measurement at different amplitudes, with length = 2.727</em>"
      ],
      "text/latex": [
       "\\captionof{figure}{Period measurement at different amplitudes, with length = 2.727}\\vspace{12pt}"
      ],
      "text/plain": [
       "<gpr.analysis.display_wrapper at 0x7f565c078490>"
      ]
     },
     "metadata": {},
     "output_type": "display_data"
    }
   ],
   "source": [
    "fig, ax=plt.subplots()\n",
    "ax.plot(periodVsAmplitude['amplitude'],periodVsAmplitude['period']/10, linestyle='',marker='+',label='individual period measurements')\n",
    "ax.plot(avgPeriodVsAmplitude['amplitude'],avgPeriodVsAmplitude['period']/10, linestyle='',marker='*',label='average per apmplitude')\n",
    "\n",
    "ax.set_xlabel('Amplitude [$\\\\degree$]')\n",
    "ax.set_ylabel('Period [s]')\n",
    "ax.legend()\n",
    "ax.set_title(f\"Period measurement at different amplitudes, with length = {periodVsAmplitude['length'][0]}\")\n",
    "\n",
    "gpa.figure(ax)"
   ]
  },
  {
   "cell_type": "markdown",
   "id": "2405e999-ebbb-4258-8565-f4df4a25939e",
   "metadata": {
    "tags": []
   },
   "source": [
    "## Length-dependence of period"
   ]
  },
  {
   "cell_type": "code",
   "execution_count": 7,
   "id": "9291eb7d-ea02-4f2f-a4b2-85adbc9cac67",
   "metadata": {
    "tags": []
   },
   "outputs": [
    {
     "data": {
      "text/html": [
       "<style type=\"text/css\">\n",
       "</style>\n",
       "<table id=\"T_7138b\">\n",
       "  <caption><em>Tabelle: Pendulum-length dependence of period</em></caption>\n",
       "  <thead>\n",
       "    <tr>\n",
       "      <th id=\"T_7138b_level0_col0\" class=\"col_heading level0 col0\" >amplitude</th>\n",
       "      <th id=\"T_7138b_level0_col1\" class=\"col_heading level0 col1\" >length</th>\n",
       "      <th id=\"T_7138b_level0_col2\" class=\"col_heading level0 col2\" >period</th>\n",
       "    </tr>\n",
       "  </thead>\n",
       "  <tbody>\n",
       "    <tr>\n",
       "      <td id=\"T_7138b_row0_col0\" class=\"data row0 col0\" >5.00</td>\n",
       "      <td id=\"T_7138b_row0_col1\" class=\"data row0 col1\" >2.73</td>\n",
       "      <td id=\"T_7138b_row0_col2\" class=\"data row0 col2\" >33.28</td>\n",
       "    </tr>\n",
       "    <tr>\n",
       "      <td id=\"T_7138b_row1_col0\" class=\"data row1 col0\" >5.00</td>\n",
       "      <td id=\"T_7138b_row1_col1\" class=\"data row1 col1\" >2.56</td>\n",
       "      <td id=\"T_7138b_row1_col2\" class=\"data row1 col2\" >32.23</td>\n",
       "    </tr>\n",
       "    <tr>\n",
       "      <td id=\"T_7138b_row2_col0\" class=\"data row2 col0\" >5.00</td>\n",
       "      <td id=\"T_7138b_row2_col1\" class=\"data row2 col1\" >2.38</td>\n",
       "      <td id=\"T_7138b_row2_col2\" class=\"data row2 col2\" >31.09</td>\n",
       "    </tr>\n",
       "    <tr>\n",
       "      <td id=\"T_7138b_row3_col0\" class=\"data row3 col0\" >5.00</td>\n",
       "      <td id=\"T_7138b_row3_col1\" class=\"data row3 col1\" >2.21</td>\n",
       "      <td id=\"T_7138b_row3_col2\" class=\"data row3 col2\" >30.02</td>\n",
       "    </tr>\n",
       "    <tr>\n",
       "      <td id=\"T_7138b_row4_col0\" class=\"data row4 col0\" >5.00</td>\n",
       "      <td id=\"T_7138b_row4_col1\" class=\"data row4 col1\" >2.04</td>\n",
       "      <td id=\"T_7138b_row4_col2\" class=\"data row4 col2\" >28.89</td>\n",
       "    </tr>\n",
       "    <tr>\n",
       "      <td id=\"T_7138b_row5_col0\" class=\"data row5 col0\" >5.00</td>\n",
       "      <td id=\"T_7138b_row5_col1\" class=\"data row5 col1\" >1.87</td>\n",
       "      <td id=\"T_7138b_row5_col2\" class=\"data row5 col2\" >27.60</td>\n",
       "    </tr>\n",
       "    <tr>\n",
       "      <td id=\"T_7138b_row6_col0\" class=\"data row6 col0\" >5.00</td>\n",
       "      <td id=\"T_7138b_row6_col1\" class=\"data row6 col1\" >1.70</td>\n",
       "      <td id=\"T_7138b_row6_col2\" class=\"data row6 col2\" >26.32</td>\n",
       "    </tr>\n",
       "    <tr>\n",
       "      <td id=\"T_7138b_row7_col0\" class=\"data row7 col0\" >5.00</td>\n",
       "      <td id=\"T_7138b_row7_col1\" class=\"data row7 col1\" >1.52</td>\n",
       "      <td id=\"T_7138b_row7_col2\" class=\"data row7 col2\" >24.93</td>\n",
       "    </tr>\n",
       "    <tr>\n",
       "      <td id=\"T_7138b_row8_col0\" class=\"data row8 col0\" >5.00</td>\n",
       "      <td id=\"T_7138b_row8_col1\" class=\"data row8 col1\" >1.35</td>\n",
       "      <td id=\"T_7138b_row8_col2\" class=\"data row8 col2\" >23.50</td>\n",
       "    </tr>\n",
       "    <tr>\n",
       "      <td id=\"T_7138b_row9_col0\" class=\"data row9 col0\" >5.00</td>\n",
       "      <td id=\"T_7138b_row9_col1\" class=\"data row9 col1\" >1.18</td>\n",
       "      <td id=\"T_7138b_row9_col2\" class=\"data row9 col2\" >22.00</td>\n",
       "    </tr>\n",
       "  </tbody>\n",
       "</table>\n"
      ],
      "text/latex": [
       "\\begin{table}[H]\n",
       "\\centering\n",
       "\\caption{Pendulum-length dependence of period}\n",
       "\\begin{tabular}{rrr}\n",
       "\\toprule\n",
       "amplitude & length & period \\\\\n",
       "\\midrule\n",
       "5.00 & 2.73 & 33.28 \\\\\n",
       "5.00 & 2.56 & 32.23 \\\\\n",
       "5.00 & 2.38 & 31.09 \\\\\n",
       "5.00 & 2.21 & 30.02 \\\\\n",
       "5.00 & 2.04 & 28.89 \\\\\n",
       "5.00 & 1.87 & 27.60 \\\\\n",
       "5.00 & 1.70 & 26.32 \\\\\n",
       "5.00 & 1.52 & 24.93 \\\\\n",
       "5.00 & 1.35 & 23.50 \\\\\n",
       "5.00 & 1.18 & 22.00 \\\\\n",
       "\\bottomrule\n",
       "\\end{tabular}\n",
       "\\end{table}\n"
      ],
      "text/plain": [
       "<gpr.analysis.display_wrapper at 0x7f55fca45fd0>"
      ]
     },
     "metadata": {},
     "output_type": "display_data"
    }
   ],
   "source": [
    "gpa.table(periodVsLength.drop('notes',axis=1).style.set_caption(\"Pendulum-length dependence of period\"))"
   ]
  },
  {
   "cell_type": "code",
   "execution_count": 8,
   "id": "ed755820-b36c-420c-b43f-0d7b211db9cd",
   "metadata": {
    "tags": []
   },
   "outputs": [
    {
     "data": {
      "image/png": "[encoded data removed]",
      "text/plain": [
       "<Figure size 640x480 with 1 Axes>"
      ]
     },
     "metadata": {},
     "output_type": "display_data"
    },
    {
     "data": {
      "text/html": [
       "<em>Abbildung: Period measurement with various lengths, with amplitude = 5.0$\\degree$</em>"
      ],
      "text/latex": [
       "\\captionof{figure}{Period measurement with various lengths, with amplitude = 5.0$\\degree$}\\vspace{12pt}"
      ],
      "text/plain": [
       "<gpr.analysis.display_wrapper at 0x7f55effe9c50>"
      ]
     },
     "metadata": {},
     "output_type": "display_data"
    }
   ],
   "source": [
    "periodVsLength['onePeriod']=periodVsLength['period']/10\n",
    "periodVsLength['errOnePeriod']=.03\n",
    "\n",
    "ax = periodVsLength.plot(\n",
    "    x='length',\n",
    "    xlabel='Length [m]',\n",
    "    y='onePeriod',\n",
    "    yerr='errOnePeriod',\n",
    "    ylabel='Period [s]',\n",
    "    kind='scatter',\n",
    "    marker='.',\n",
    "    title=f\"Period measurement with various lengths, with amplitude = {periodVsLength['amplitude'][0]}$\\\\degree$\"\n",
    ")\n",
    "gpa.figure(ax)"
   ]
  },
  {
   "cell_type": "markdown",
   "id": "31cdce49-5ab0-48a2-8a67-96bb3cc538bd",
   "metadata": {
    "tags": []
   },
   "source": [
    "# Discussion\n",
    "This is an important experiment, because ..."
   ]
  },
  {
   "cell_type": "code",
   "execution_count": 19,
   "id": "1d724bd9-1262-4608-a64f-add6a27969fa",
   "metadata": {},
   "outputs": [],
   "source": [
    "#gpa.validate()"
   ]
  }
 ],
 "metadata": {
  "author": "James Bates (Matriklenr. 634487)",
  "course": "P0 -- Einführungspraktikum",
  "hu-style": "gpr",
  "kernelspec": {
   "display_name": "Python 3 (ipykernel)",
   "language": "python",
   "name": "python3"
  },
  "language_info": {
   "codemirror_mode": {
    "name": "ipython",
    "version": 3
   },
   "file_extension": ".py",
   "mimetype": "text/x-python",
   "name": "python",
   "nbconvert_exporter": "python",
   "pygments_lexer": "ipython3",
   "version": "3.11.9"
  },
  "semester": "Sommersemester 2024",
  "title": "Fadenpendel"
 },
 "nbformat": 4,
 "nbformat_minor": 5
}
