{
 "cells": [
  {
   "cell_type": "code",
   "execution_count": 11,
   "id": "e97c8243-facf-49d3-bdb1-dd71b7be7bfd",
   "metadata": {
    "tags": []
   },
   "outputs": [],
   "source": [
    "import numpy as np\n",
    "import pandas as pd\n",
    "import matplotlib.pyplot as plt\n",
    "\n",
    "entry_id = \"Qp2E_7Zd6_8RrQ3Ievakt0YAQnsR\"\n",
    "\n",
    "import gpr.analysis as gpa\n",
    "\n",
    "singlePeriod = gpa.getData('singlePeriod')\n",
    "tenPeriods = gpa.getData('tenPeriods')\n",
    "periodVsAmplitude = gpa.getData('periodVsAmplitude')\n",
    "periodVsLength = gpa.getData('periodVsLength')"
   ]
  },
  {
   "cell_type": "markdown",
   "id": "3064b9f5-0bde-46c2-abe8-19150b1cbd2a",
   "metadata": {},
   "source": [
    "# Introduction\n",
    "Pendulums are important because...\n",
    "\n",
    "# Theory\n",
    "In the small-angle approximation, the period of a pendulum is given by\n",
    "\\begin{equation}\\label{period}\n",
    "T=2\\pi\\sqrt{\\frac{L}{g}}\n",
    "\\end{equation}"
   ]
  },
  {
   "cell_type": "markdown",
   "id": "bd3ab9ce-968e-4091-8c58-041cdd5a43fe",
   "metadata": {},
   "source": [
    "# Experimental setup"
   ]
  },
  {
   "cell_type": "markdown",
   "id": "be0ca1e1-fc8f-47bd-a784-2e456a1d87e1",
   "metadata": {
    "tags": []
   },
   "source": [
    "# Results\n",
    "\n",
    "## Single-period measurement \n",
    "In this first experiment, a constant amplitude of ... was used. The period was measured 10 times as the duration between zero-point passages, and 10 times as the duration between reversal point passages. The resulst are shown in the table below"
   ]
  },
  {
   "cell_type": "code",
   "execution_count": null,
   "id": "2de366b4-c72b-40c6-8c09-e7278906f5dd",
   "metadata": {
    "tags": []
   },
   "outputs": [],
   "source": [
    "gpa.table(singlePeriod.drop('notes',axis=1)\n",
    "          .style.set_caption(\"Single-period measurements\")\n",
    "                .format(subset='amplitude',precision=1)\n",
    "                .format(subset='length',precision=3)\n",
    "                .relabel_index(['Amplitude [$\\\\degree$]', 'Length [m]','Period at zero-point [s]','Period at reversal point [s]'],axis=1)\n",
    "       )"
   ]
  },
  {
   "cell_type": "markdown",
   "id": "d638dfd9-7ba4-4af2-833a-e496ca7f28d6",
   "metadata": {
    "tags": []
   },
   "source": [
    "Next, the duration was measured 10 times, as the duration of 10 zero-point passages, and ten times as the duration of 10 reversal-point passages. The results are shown in the table below."
   ]
  },
  {
   "cell_type": "code",
   "execution_count": null,
   "id": "31e54176-f879-49cf-b373-b25d632d4a4d",
   "metadata": {
    "tags": []
   },
   "outputs": [],
   "source": [
    "# \n",
    "tenPeriods['zeroPointSingle']=tenPeriods['zeroPoint']/10.2\n",
    "tenPeriods['reversePointSingle']=tenPeriods['reversePoint']/10.2\n",
    "gpa.table(tenPeriods.drop(\"notes\",axis=1).style.set_caption(\"10-period measurements\"))"
   ]
  },
  {
   "cell_type": "markdown",
   "id": "6521c37a-5e35-49d6-8245-95e60027a54a",
   "metadata": {},
   "source": [
    "The plot below shows the distribution of the period measurements for each of the 4 methods employed."
   ]
  },
  {
   "cell_type": "code",
   "execution_count": null,
   "id": "df19539f-3501-49aa-824a-858116b8b88e",
   "metadata": {
    "tags": []
   },
   "outputs": [],
   "source": [
    "plt.plot(singlePeriod.index+1, singlePeriod['zeroPoint'],marker='+',linestyle='none',label='Single period at zero point', color='b')\n",
    "plt.plot(singlePeriod.index+1, singlePeriod['reversePoint'],marker='*',linestyle='none',label='Single period at reverse point', color='b')\n",
    "plt.plot(tenPeriods.index+1, tenPeriods['zeroPointSingle'],marker='+',linestyle='none',label='10 Period avg at zero point',color='r')\n",
    "plt.plot(tenPeriods.index+1, tenPeriods['reversePointSingle'], marker='*',linestyle='none',label='10 Period avg at reverse point', color='r')\n",
    "plt.xlabel('Measurement')\n",
    "plt.ylabel('Period [s]')\n",
    "plt.legend()\n",
    "plt.title(f\"Period measurement with length = {singlePeriod['length'][0]}m and amplitude={singlePeriod['amplitude'][0]}$\\\\degree$\")\n",
    "#plt.show()\n",
    "gpa.figure()"
   ]
  },
  {
   "cell_type": "markdown",
   "id": "26553aeb-bb79-4f3c-a7a9-303501970d5f",
   "metadata": {},
   "source": [
    "Clearly, the best accuracy is obtained by ..."
   ]
  },
  {
   "cell_type": "markdown",
   "id": "537ee3ac-59c0-4e8c-bde2-8f0f6ffc3ddc",
   "metadata": {},
   "source": [
    "## Amplitude-dependence of the pendulum period"
   ]
  },
  {
   "cell_type": "markdown",
   "id": "8fbb262c-55de-4282-bb5a-b1244d2e781e",
   "metadata": {
    "tags": []
   },
   "source": [
    "Measurement results:"
   ]
  },
  {
   "cell_type": "code",
   "execution_count": null,
   "id": "7c6af6f0-0f3a-448b-8d29-89095f704d5f",
   "metadata": {
    "tags": []
   },
   "outputs": [],
   "source": [
    "avgPeriodVsAmplitude = periodVsAmplitude.groupby('amplitude',group_keys=True).agg('mean',numeric_only=True).reset_index()\n",
    "\n",
    "gpa.table(periodVsAmplitude.drop(\"notes\",axis=1).style.set_caption(\"The results of the amplitude-dependent period measurements\"))\n",
    "gpa.table(avgPeriodVsAmplitude.style.set_caption(\"Average period for each amplitude\"))"
   ]
  },
  {
   "cell_type": "code",
   "execution_count": null,
   "id": "cfe99d82-64fc-49b2-afaa-336ad31f3005",
   "metadata": {
    "tags": []
   },
   "outputs": [],
   "source": [
    "fig, ax=plt.subplots()\n",
    "ax.plot(periodVsAmplitude['amplitude'],periodVsAmplitude['period']/10, linestyle='',marker='+',label='individual period measurements')\n",
    "ax.plot(avgPeriodVsAmplitude['amplitude'],avgPeriodVsAmplitude['period']/10, linestyle='',marker='*',label='average per apmplitude')\n",
    "\n",
    "ax.set_xlabel('Amplitude [$\\\\degree$]')\n",
    "ax.set_ylabel('Period [s]')\n",
    "ax.legend()\n",
    "ax.set_title(f\"Period measurement at different amplitudes, with length = {periodVsAmplitude['length'][0]}\")\n",
    "\n",
    "gpa.figure(ax)"
   ]
  },
  {
   "cell_type": "markdown",
   "id": "2405e999-ebbb-4258-8565-f4df4a25939e",
   "metadata": {
    "tags": []
   },
   "source": [
    "## Length-dependence of period"
   ]
  },
  {
   "cell_type": "code",
   "execution_count": null,
   "id": "9291eb7d-ea02-4f2f-a4b2-85adbc9cac67",
   "metadata": {
    "tags": []
   },
   "outputs": [],
   "source": [
    "gpa.table(periodVsLength.drop('notes',axis=1).style.set_caption(\"Pendulum-length dependence of period\"))"
   ]
  },
  {
   "cell_type": "code",
   "execution_count": null,
   "id": "ed755820-b36c-420c-b43f-0d7b211db9cd",
   "metadata": {
    "tags": []
   },
   "outputs": [],
   "source": [
    "periodVsLength['onePeriod']=periodVsLength['period']/10\n",
    "periodVsLength['errOnePeriod']=.03\n",
    "\n",
    "ax = periodVsLength.plot(\n",
    "    x='length',\n",
    "    xlabel='Length [m]',\n",
    "    y='onePeriod',\n",
    "    yerr='errOnePeriod',\n",
    "    ylabel='Period [s]',\n",
    "    kind='scatter',\n",
    "    marker='.',\n",
    "    title=f\"Period measurement with various lengths, with amplitude = {periodVsLength['amplitude'][0]}$\\\\degree$\"\n",
    ")\n",
    "gpa.figure(ax)"
   ]
  },
  {
   "cell_type": "markdown",
   "id": "31cdce49-5ab0-48a2-8a67-96bb3cc538bd",
   "metadata": {
    "tags": []
   },
   "source": [
    "# Discussion\n",
    "This is an important experiment, because ..."
   ]
  },
  {
   "cell_type": "code",
   "execution_count": 19,
   "id": "1d724bd9-1262-4608-a64f-add6a27969fa",
   "metadata": {},
   "outputs": [],
   "source": [
    "#gpa.validate()"
   ]
  },
  {
   "cell_type": "code",
   "execution_count": null,
   "id": "9d9ac614-f3f4-4ca9-b712-1ba7496326bf",
   "metadata": {},
   "outputs": [],
   "source": []
  },
  {
   "cell_type": "code",
   "execution_count": null,
   "id": "88eaec65-eae5-4dd8-a7d8-b03d8463301f",
   "metadata": {},
   "outputs": [],
   "source": []
  }
 ],
 "metadata": {
  "author": "James Bates (Matriklenr. 634487)",
  "course": "P0 -- Einführungspraktikum",
  "hu-style": "gpr",
  "kernelspec": {
   "display_name": "Python 3 (ipykernel)",
   "language": "python",
   "name": "python3"
  },
  "language_info": {
   "codemirror_mode": {
    "name": "ipython",
    "version": 3
   },
   "file_extension": ".py",
   "mimetype": "text/x-python",
   "name": "python",
   "nbconvert_exporter": "python",
   "pygments_lexer": "ipython3",
   "version": "3.11.9"
  },
  "semester": "Sommersemester 2024",
  "title": "Fadenpendel"
 },
 "nbformat": 4,
 "nbformat_minor": 5
}
