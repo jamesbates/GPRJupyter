{
 "cells": [
  {
   "cell_type": "code",
   "execution_count": null,
   "id": "87fad5b2-ce8f-4a09-a0de-f99c12f84699",
   "metadata": {},
   "outputs": [],
   "source": [
    "entry_id = \"Qp2E_7Zd6_8RrQ3Ievakt0YAQnsR\"\n",
    "import gpr.P0_Editor"
   ]
  }
 ],
 "metadata": {
  "kernelspec": {
   "display_name": "Python 3 (ipykernel)",
   "language": "python",
   "name": "python3"
  },
  "language_info": {
   "codemirror_mode": {
    "name": "ipython",
    "version": 3
   },
   "file_extension": ".py",
   "mimetype": "text/x-python",
   "name": "python",
   "nbconvert_exporter": "python",
   "pygments_lexer": "ipython3",
   "version": "3.11.9"
  }
 },
 "nbformat": 4,
 "nbformat_minor": 5
}
